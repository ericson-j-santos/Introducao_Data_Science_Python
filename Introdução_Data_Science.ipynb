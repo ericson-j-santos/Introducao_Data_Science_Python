{
  "nbformat": 4,
  "nbformat_minor": 0,
  "metadata": {
    "colab": {
      "name": "Introdução_Data_Science.ipynb",
      "provenance": [],
      "collapsed_sections": [
        "B4y21lqSdbom"
      ],
      "authorship_tag": "ABX9TyOUVsBB+zWitQifNpWlc/Wx",
      "include_colab_link": true
    },
    "kernelspec": {
      "name": "python3",
      "display_name": "Python 3"
    },
    "language_info": {
      "name": "python"
    }
  },
  "cells": [
    {
      "cell_type": "markdown",
      "metadata": {
        "id": "view-in-github",
        "colab_type": "text"
      },
      "source": [
        "<a href=\"https://colab.research.google.com/github/ericsontakay1988/Introducao_Data_Science_Python/blob/main/Introdu%C3%A7%C3%A3o_Data_Science.ipynb\" target=\"_parent\"><img src=\"https://colab.research.google.com/assets/colab-badge.svg\" alt=\"Open In Colab\"/></a>"
      ]
    },
    {
      "cell_type": "markdown",
      "metadata": {
        "id": "u-IKWRAYW0sn"
      },
      "source": [
        "Data Science com Pandas e importação de planilha do excel:\n",
        "\n"
      ]
    },
    {
      "cell_type": "code",
      "metadata": {
        "id": "6X5GzeEFW6TW"
      },
      "source": [
        "import pandas as pd"
      ],
      "execution_count": 82,
      "outputs": []
    },
    {
      "cell_type": "markdown",
      "metadata": {
        "id": "B4y21lqSdbom"
      },
      "source": [
        "#Analisando as notas em geral\n"
      ]
    },
    {
      "cell_type": "code",
      "metadata": {
        "colab": {
          "base_uri": "https://localhost:8080/"
        },
        "id": "BGBW0goEW9wH",
        "outputId": "466b2185-5383-45de-eef0-015d35e63b76"
      },
      "source": [
        "notas = pd.read_csv(r\"ratings.csv\")\n",
        "print(notas.head())\n"
      ],
      "execution_count": 83,
      "outputs": [
        {
          "output_type": "stream",
          "name": "stdout",
          "text": [
            "   userId  movieId  rating  timestamp\n",
            "0       1        1     4.0  964982703\n",
            "1       1        3     4.0  964981247\n",
            "2       1        6     4.0  964982224\n",
            "3       1       47     5.0  964983815\n",
            "4       1       50     5.0  964982931\n"
          ]
        }
      ]
    },
    {
      "cell_type": "code",
      "metadata": {
        "colab": {
          "base_uri": "https://localhost:8080/"
        },
        "id": "ZmQVXXG6XfTx",
        "outputId": "eb1b8bce-465b-45b7-83cb-7547c035f21b"
      },
      "source": [
        "print(notas.shape)"
      ],
      "execution_count": 84,
      "outputs": [
        {
          "output_type": "stream",
          "name": "stdout",
          "text": [
            "(100836, 4)\n"
          ]
        }
      ]
    },
    {
      "cell_type": "markdown",
      "metadata": {
        "id": "VOVVLladXh_o"
      },
      "source": [
        "Renomeando os nomes das colunas:\n"
      ]
    },
    {
      "cell_type": "code",
      "metadata": {
        "colab": {
          "base_uri": "https://localhost:8080/",
          "height": 0
        },
        "id": "e6SWuMnEXlFu",
        "outputId": "84e8ea8b-afb6-424c-f220-e8a5d49eb8d2"
      },
      "source": [
        "notas.columns = [\"usuarioId\", \"filmeId\", \"nota\", \"momento\"]\n",
        "notas.head()"
      ],
      "execution_count": 85,
      "outputs": [
        {
          "output_type": "execute_result",
          "data": {
            "text/html": [
              "<div>\n",
              "<style scoped>\n",
              "    .dataframe tbody tr th:only-of-type {\n",
              "        vertical-align: middle;\n",
              "    }\n",
              "\n",
              "    .dataframe tbody tr th {\n",
              "        vertical-align: top;\n",
              "    }\n",
              "\n",
              "    .dataframe thead th {\n",
              "        text-align: right;\n",
              "    }\n",
              "</style>\n",
              "<table border=\"1\" class=\"dataframe\">\n",
              "  <thead>\n",
              "    <tr style=\"text-align: right;\">\n",
              "      <th></th>\n",
              "      <th>usuarioId</th>\n",
              "      <th>filmeId</th>\n",
              "      <th>nota</th>\n",
              "      <th>momento</th>\n",
              "    </tr>\n",
              "  </thead>\n",
              "  <tbody>\n",
              "    <tr>\n",
              "      <th>0</th>\n",
              "      <td>1</td>\n",
              "      <td>1</td>\n",
              "      <td>4.0</td>\n",
              "      <td>964982703</td>\n",
              "    </tr>\n",
              "    <tr>\n",
              "      <th>1</th>\n",
              "      <td>1</td>\n",
              "      <td>3</td>\n",
              "      <td>4.0</td>\n",
              "      <td>964981247</td>\n",
              "    </tr>\n",
              "    <tr>\n",
              "      <th>2</th>\n",
              "      <td>1</td>\n",
              "      <td>6</td>\n",
              "      <td>4.0</td>\n",
              "      <td>964982224</td>\n",
              "    </tr>\n",
              "    <tr>\n",
              "      <th>3</th>\n",
              "      <td>1</td>\n",
              "      <td>47</td>\n",
              "      <td>5.0</td>\n",
              "      <td>964983815</td>\n",
              "    </tr>\n",
              "    <tr>\n",
              "      <th>4</th>\n",
              "      <td>1</td>\n",
              "      <td>50</td>\n",
              "      <td>5.0</td>\n",
              "      <td>964982931</td>\n",
              "    </tr>\n",
              "  </tbody>\n",
              "</table>\n",
              "</div>"
            ],
            "text/plain": [
              "   usuarioId  filmeId  nota    momento\n",
              "0          1        1   4.0  964982703\n",
              "1          1        3   4.0  964981247\n",
              "2          1        6   4.0  964982224\n",
              "3          1       47   5.0  964983815\n",
              "4          1       50   5.0  964982931"
            ]
          },
          "metadata": {},
          "execution_count": 85
        }
      ]
    },
    {
      "cell_type": "markdown",
      "metadata": {
        "id": "HGhUZSG-XsDJ"
      },
      "source": [
        "Mostrando somente a coluna nota:\n"
      ]
    },
    {
      "cell_type": "code",
      "metadata": {
        "colab": {
          "base_uri": "https://localhost:8080/"
        },
        "id": "LunuK8ukXxHW",
        "outputId": "7d73137a-fa3a-49ef-f5b5-7b8324f560c0"
      },
      "source": [
        "notas['nota']\n",
        "notas['nota'].unique()"
      ],
      "execution_count": 86,
      "outputs": [
        {
          "output_type": "execute_result",
          "data": {
            "text/plain": [
              "array([4. , 5. , 3. , 2. , 1. , 4.5, 3.5, 2.5, 0.5, 1.5])"
            ]
          },
          "metadata": {},
          "execution_count": 86
        }
      ]
    },
    {
      "cell_type": "markdown",
      "metadata": {
        "id": "oDploqXwX2sJ"
      },
      "source": [
        "Usando Pandas Séries para contar a quantidade de vezes que aparece os valores da coluna nota:\n"
      ]
    },
    {
      "cell_type": "code",
      "metadata": {
        "colab": {
          "base_uri": "https://localhost:8080/"
        },
        "id": "jkAtWFI2X4oU",
        "outputId": "45dce414-e85e-42dc-8fc2-147bec58d213"
      },
      "source": [
        "notas['nota'].value_counts()\n"
      ],
      "execution_count": 87,
      "outputs": [
        {
          "output_type": "execute_result",
          "data": {
            "text/plain": [
              "4.0    26818\n",
              "3.0    20047\n",
              "5.0    13211\n",
              "3.5    13136\n",
              "4.5     8551\n",
              "2.0     7551\n",
              "2.5     5550\n",
              "1.0     2811\n",
              "1.5     1791\n",
              "0.5     1370\n",
              "Name: nota, dtype: int64"
            ]
          },
          "metadata": {},
          "execution_count": 87
        }
      ]
    },
    {
      "cell_type": "markdown",
      "metadata": {
        "id": "OLQ_u7IsX6nZ"
      },
      "source": [
        "Usando o Pandas Séries para média:\n"
      ]
    },
    {
      "cell_type": "code",
      "metadata": {
        "colab": {
          "base_uri": "https://localhost:8080/"
        },
        "id": "Wn5BQRG5X954",
        "outputId": "22209dbd-204e-4c53-bd53-b88d790f799a"
      },
      "source": [
        "print(\"Media\", notas['nota'].mean())\n"
      ],
      "execution_count": 88,
      "outputs": [
        {
          "output_type": "stream",
          "name": "stdout",
          "text": [
            "Media 3.501556983616962\n"
          ]
        }
      ]
    },
    {
      "cell_type": "code",
      "metadata": {
        "colab": {
          "base_uri": "https://localhost:8080/"
        },
        "id": "ueuNxPdfX_eY",
        "outputId": "c9b9ac60-3fd6-43b1-e312-e78362b69f8e"
      },
      "source": [
        "print(\"Mediana\", notas['nota'].median())\n"
      ],
      "execution_count": 89,
      "outputs": [
        {
          "output_type": "stream",
          "name": "stdout",
          "text": [
            "Mediana 3.5\n"
          ]
        }
      ]
    },
    {
      "cell_type": "code",
      "metadata": {
        "colab": {
          "base_uri": "https://localhost:8080/",
          "height": 0
        },
        "id": "lS-D1i76YBHn",
        "outputId": "194c5c07-d6d5-45fe-cc45-36d957dd7202"
      },
      "source": [
        "notas.nota.plot()\n"
      ],
      "execution_count": 90,
      "outputs": [
        {
          "output_type": "execute_result",
          "data": {
            "text/plain": [
              "<matplotlib.axes._subplots.AxesSubplot at 0x7f1cb72f2a90>"
            ]
          },
          "metadata": {},
          "execution_count": 90
        },
        {
          "output_type": "display_data",
          "data": {
            "image/png": "[encoded data removed]",
            "text/plain": [
              "<Figure size 432x288 with 1 Axes>"
            ]
          },
          "metadata": {
            "needs_background": "light"
          }
        }
      ]
    },
    {
      "cell_type": "code",
      "metadata": {
        "colab": {
          "base_uri": "https://localhost:8080/"
        },
        "id": "ZNZUBfoEYCr2",
        "outputId": "7ab0c636-4135-4a55-e76e-63bb5fe662ac"
      },
      "source": [
        "notas.nota.head()\n"
      ],
      "execution_count": 91,
      "outputs": [
        {
          "output_type": "execute_result",
          "data": {
            "text/plain": [
              "0    4.0\n",
              "1    4.0\n",
              "2    4.0\n",
              "3    5.0\n",
              "4    5.0\n",
              "Name: nota, dtype: float64"
            ]
          },
          "metadata": {},
          "execution_count": 91
        }
      ]
    },
    {
      "cell_type": "code",
      "metadata": {
        "colab": {
          "base_uri": "https://localhost:8080/",
          "height": 0
        },
        "id": "CkIx9penYEHR",
        "outputId": "9e7fce74-2c18-49aa-c9ee-8081eb4d7fd8"
      },
      "source": [
        "notas.nota.plot(kind='hist')\n"
      ],
      "execution_count": 92,
      "outputs": [
        {
          "output_type": "execute_result",
          "data": {
            "text/plain": [
              "<matplotlib.axes._subplots.AxesSubplot at 0x7f1cb725b810>"
            ]
          },
          "metadata": {},
          "execution_count": 92
        },
        {
          "output_type": "display_data",
          "data": {
            "image/png": "[encoded data removed]",
            "text/plain": [
              "<Figure size 432x288 with 1 Axes>"
            ]
          },
          "metadata": {
            "needs_background": "light"
          }
        }
      ]
    },
    {
      "cell_type": "code",
      "metadata": {
        "colab": {
          "base_uri": "https://localhost:8080/"
        },
        "id": "52-KUSAoYFxr",
        "outputId": "d24c7a41-2831-4d78-f2ff-09528ea4d0c0"
      },
      "source": [
        "notas.nota.describe()\n"
      ],
      "execution_count": 93,
      "outputs": [
        {
          "output_type": "execute_result",
          "data": {
            "text/plain": [
              "count    100836.000000\n",
              "mean          3.501557\n",
              "std           1.042529\n",
              "min           0.500000\n",
              "25%           3.000000\n",
              "50%           3.500000\n",
              "75%           4.000000\n",
              "max           5.000000\n",
              "Name: nota, dtype: float64"
            ]
          },
          "metadata": {},
          "execution_count": 93
        }
      ]
    },
    {
      "cell_type": "code",
      "metadata": {
        "colab": {
          "base_uri": "https://localhost:8080/",
          "height": 0
        },
        "id": "UQ2YurEuWsON",
        "outputId": "ba47995d-909e-408e-f721-877e4a0c2f7c"
      },
      "source": [
        "import seaborn as sns\n",
        "sns.boxplot(notas.nota)"
      ],
      "execution_count": 94,
      "outputs": [
        {
          "output_type": "stream",
          "name": "stderr",
          "text": [
            "/usr/local/lib/python3.7/dist-packages/seaborn/_decorators.py:43: FutureWarning: Pass the following variable as a keyword arg: x. From version 0.12, the only valid positional argument will be `data`, and passing other arguments without an explicit keyword will result in an error or misinterpretation.\n"
          ]
        },
        {
          "output_type": "execute_result",
          "data": {
            "text/plain": [
              "<matplotlib.axes._subplots.AxesSubplot at 0x7f1cb71d6ed0>"
            ]
          },
          "metadata": {},
          "execution_count": 94
        },
        {
          "output_type": "display_data",
          "data": {
            "image/png": "[encoded data removed]",
            "text/plain": [
              "<Figure size 432x288 with 1 Axes>"
            ]
          },
          "metadata": {
            "needs_background": "light"
          }
        }
      ]
    },
    {
      "cell_type": "code",
      "metadata": {
        "colab": {
          "base_uri": "https://localhost:8080/",
          "height": 0
        },
        "id": "0c5HY5kKbDav",
        "outputId": "6e10e88b-55fc-4965-f5b0-8ed6e3624e54"
      },
      "source": [
        "filmes = pd.read_csv(\"movies.csv\")\n",
        "filmes.columns = [\"filmesId\", \"titulo\", \"generos\"]\n",
        "filmes.head()\n"
      ],
      "execution_count": 95,
      "outputs": [
        {
          "output_type": "execute_result",
          "data": {
            "text/html": [
              "<div>\n",
              "<style scoped>\n",
              "    .dataframe tbody tr th:only-of-type {\n",
              "        vertical-align: middle;\n",
              "    }\n",
              "\n",
              "    .dataframe tbody tr th {\n",
              "        vertical-align: top;\n",
              "    }\n",
              "\n",
              "    .dataframe thead th {\n",
              "        text-align: right;\n",
              "    }\n",
              "</style>\n",
              "<table border=\"1\" class=\"dataframe\">\n",
              "  <thead>\n",
              "    <tr style=\"text-align: right;\">\n",
              "      <th></th>\n",
              "      <th>filmesId</th>\n",
              "      <th>titulo</th>\n",
              "      <th>generos</th>\n",
              "    </tr>\n",
              "  </thead>\n",
              "  <tbody>\n",
              "    <tr>\n",
              "      <th>0</th>\n",
              "      <td>1</td>\n",
              "      <td>Toy Story (1995)</td>\n",
              "      <td>Adventure|Animation|Children|Comedy|Fantasy</td>\n",
              "    </tr>\n",
              "    <tr>\n",
              "      <th>1</th>\n",
              "      <td>2</td>\n",
              "      <td>Jumanji (1995)</td>\n",
              "      <td>Adventure|Children|Fantasy</td>\n",
              "    </tr>\n",
              "    <tr>\n",
              "      <th>2</th>\n",
              "      <td>3</td>\n",
              "      <td>Grumpier Old Men (1995)</td>\n",
              "      <td>Comedy|Romance</td>\n",
              "    </tr>\n",
              "    <tr>\n",
              "      <th>3</th>\n",
              "      <td>4</td>\n",
              "      <td>Waiting to Exhale (1995)</td>\n",
              "      <td>Comedy|Drama|Romance</td>\n",
              "    </tr>\n",
              "    <tr>\n",
              "      <th>4</th>\n",
              "      <td>5</td>\n",
              "      <td>Father of the Bride Part II (1995)</td>\n",
              "      <td>Comedy</td>\n",
              "    </tr>\n",
              "  </tbody>\n",
              "</table>\n",
              "</div>"
            ],
            "text/plain": [
              "   filmesId  ...                                      generos\n",
              "0         1  ...  Adventure|Animation|Children|Comedy|Fantasy\n",
              "1         2  ...                   Adventure|Children|Fantasy\n",
              "2         3  ...                               Comedy|Romance\n",
              "3         4  ...                         Comedy|Drama|Romance\n",
              "4         5  ...                                       Comedy\n",
              "\n",
              "[5 rows x 3 columns]"
            ]
          },
          "metadata": {},
          "execution_count": 95
        }
      ]
    },
    {
      "cell_type": "code",
      "metadata": {
        "colab": {
          "base_uri": "https://localhost:8080/",
          "height": 0
        },
        "id": "DqjrlfoQcxnM",
        "outputId": "a0e96359-870e-49f4-de02-2784f84c4105"
      },
      "source": [
        "notas.head()"
      ],
      "execution_count": 96,
      "outputs": [
        {
          "output_type": "execute_result",
          "data": {
            "text/html": [
              "<div>\n",
              "<style scoped>\n",
              "    .dataframe tbody tr th:only-of-type {\n",
              "        vertical-align: middle;\n",
              "    }\n",
              "\n",
              "    .dataframe tbody tr th {\n",
              "        vertical-align: top;\n",
              "    }\n",
              "\n",
              "    .dataframe thead th {\n",
              "        text-align: right;\n",
              "    }\n",
              "</style>\n",
              "<table border=\"1\" class=\"dataframe\">\n",
              "  <thead>\n",
              "    <tr style=\"text-align: right;\">\n",
              "      <th></th>\n",
              "      <th>usuarioId</th>\n",
              "      <th>filmeId</th>\n",
              "      <th>nota</th>\n",
              "      <th>momento</th>\n",
              "    </tr>\n",
              "  </thead>\n",
              "  <tbody>\n",
              "    <tr>\n",
              "      <th>0</th>\n",
              "      <td>1</td>\n",
              "      <td>1</td>\n",
              "      <td>4.0</td>\n",
              "      <td>964982703</td>\n",
              "    </tr>\n",
              "    <tr>\n",
              "      <th>1</th>\n",
              "      <td>1</td>\n",
              "      <td>3</td>\n",
              "      <td>4.0</td>\n",
              "      <td>964981247</td>\n",
              "    </tr>\n",
              "    <tr>\n",
              "      <th>2</th>\n",
              "      <td>1</td>\n",
              "      <td>6</td>\n",
              "      <td>4.0</td>\n",
              "      <td>964982224</td>\n",
              "    </tr>\n",
              "    <tr>\n",
              "      <th>3</th>\n",
              "      <td>1</td>\n",
              "      <td>47</td>\n",
              "      <td>5.0</td>\n",
              "      <td>964983815</td>\n",
              "    </tr>\n",
              "    <tr>\n",
              "      <th>4</th>\n",
              "      <td>1</td>\n",
              "      <td>50</td>\n",
              "      <td>5.0</td>\n",
              "      <td>964982931</td>\n",
              "    </tr>\n",
              "  </tbody>\n",
              "</table>\n",
              "</div>"
            ],
            "text/plain": [
              "   usuarioId  filmeId  nota    momento\n",
              "0          1        1   4.0  964982703\n",
              "1          1        3   4.0  964981247\n",
              "2          1        6   4.0  964982224\n",
              "3          1       47   5.0  964983815\n",
              "4          1       50   5.0  964982931"
            ]
          },
          "metadata": {},
          "execution_count": 96
        }
      ]
    },
    {
      "cell_type": "markdown",
      "metadata": {
        "id": "cp233ctQdL2D"
      },
      "source": [
        "#Analisando algumas notas especificas por filme\n",
        "\n"
      ]
    },
    {
      "cell_type": "code",
      "metadata": {
        "colab": {
          "base_uri": "https://localhost:8080/"
        },
        "id": "gHaRTTt-cxVC",
        "outputId": "20923df2-4729-4f09-8c01-127ea007ee0c"
      },
      "source": [
        "notas.query(\"filmeId==1\").nota.mean()"
      ],
      "execution_count": 97,
      "outputs": [
        {
          "output_type": "execute_result",
          "data": {
            "text/plain": [
              "3.9209302325581397"
            ]
          },
          "metadata": {},
          "execution_count": 97
        }
      ]
    },
    {
      "cell_type": "code",
      "metadata": {
        "colab": {
          "base_uri": "https://localhost:8080/"
        },
        "id": "04n0WeSKdQ0F",
        "outputId": "3f0e9088-4508-4335-8d76-6414c04fc28e"
      },
      "source": [
        "notas.query(\"filmeId==2\").nota.mean()"
      ],
      "execution_count": 98,
      "outputs": [
        {
          "output_type": "execute_result",
          "data": {
            "text/plain": [
              "3.4318181818181817"
            ]
          },
          "metadata": {},
          "execution_count": 98
        }
      ]
    },
    {
      "cell_type": "markdown",
      "metadata": {
        "id": "Ng0UfWBfefeY"
      },
      "source": [
        "No caso foi abaixo foi agrupado por filme e aplicado a média nas notas\n"
      ]
    },
    {
      "cell_type": "code",
      "metadata": {
        "colab": {
          "base_uri": "https://localhost:8080/"
        },
        "id": "W6uj_6V9d2wQ",
        "outputId": "8c6ff0c3-6816-4f2a-c30c-920069c19a1a"
      },
      "source": [
        "medias_por_filme = notas.groupby(\"filmeId\").mean()[\"nota\"]\n",
        "medias_por_filme.head()"
      ],
      "execution_count": 99,
      "outputs": [
        {
          "output_type": "execute_result",
          "data": {
            "text/plain": [
              "filmeId\n",
              "1    3.920930\n",
              "2    3.431818\n",
              "3    3.259615\n",
              "4    2.357143\n",
              "5    3.071429\n",
              "Name: nota, dtype: float64"
            ]
          },
          "metadata": {},
          "execution_count": 99
        }
      ]
    },
    {
      "cell_type": "code",
      "metadata": {
        "colab": {
          "base_uri": "https://localhost:8080/",
          "height": 284
        },
        "id": "5sLLfGFpeWDK",
        "outputId": "e32d502c-9422-4d42-b80e-2690e7a6149f"
      },
      "source": [
        "medias_por_filme.plot(kind=\"hist\")"
      ],
      "execution_count": 100,
      "outputs": [
        {
          "output_type": "execute_result",
          "data": {
            "text/plain": [
              "<matplotlib.axes._subplots.AxesSubplot at 0x7f1cb70a9f90>"
            ]
          },
          "metadata": {},
          "execution_count": 100
        },
        {
          "output_type": "display_data",
          "data": {
            "image/png": "[encoded data removed]",
            "text/plain": [
              "<Figure size 432x288 with 1 Axes>"
            ]
          },
          "metadata": {
            "needs_background": "light"
          }
        }
      ]
    },
    {
      "cell_type": "code",
      "metadata": {
        "colab": {
          "base_uri": "https://localhost:8080/",
          "height": 488
        },
        "id": "xzTX4dbNfetI",
        "outputId": "a238987f-017f-4361-8b05-cf695b8dd228"
      },
      "source": [
        "import matplotlib.pyplot as plt\n",
        "\n",
        "plt.figure(figsize=(5,8))\n",
        "sns.boxplot(y=medias_por_filme)"
      ],
      "execution_count": 101,
      "outputs": [
        {
          "output_type": "execute_result",
          "data": {
            "text/plain": [
              "<matplotlib.axes._subplots.AxesSubplot at 0x7f1cb707ee50>"
            ]
          },
          "metadata": {},
          "execution_count": 101
        },
        {
          "output_type": "display_data",
          "data": {
            "image/png": "[encoded data removed]",
            "text/plain": [
              "<Figure size 360x576 with 1 Axes>"
            ]
          },
          "metadata": {
            "needs_background": "light"
          }
        }
      ]
    },
    {
      "cell_type": "code",
      "metadata": {
        "colab": {
          "base_uri": "https://localhost:8080/"
        },
        "id": "_LIZvHe7f0NQ",
        "outputId": "e3186cfc-00fa-41c2-b227-997c0f8cde25"
      },
      "source": [
        "medias_por_filme.describe()"
      ],
      "execution_count": 102,
      "outputs": [
        {
          "output_type": "execute_result",
          "data": {
            "text/plain": [
              "count    9724.000000\n",
              "mean        3.262448\n",
              "std         0.869874\n",
              "min         0.500000\n",
              "25%         2.800000\n",
              "50%         3.416667\n",
              "75%         3.911765\n",
              "max         5.000000\n",
              "Name: nota, dtype: float64"
            ]
          },
          "metadata": {},
          "execution_count": 102
        }
      ]
    },
    {
      "cell_type": "code",
      "metadata": {
        "colab": {
          "base_uri": "https://localhost:8080/",
          "height": 355
        },
        "id": "sT_nVAvLf6GI",
        "outputId": "a3d15dd6-0beb-4068-95c1-a5a13a9795ee"
      },
      "source": [
        "sns.distplot(medias_por_filme, bins=10)"
      ],
      "execution_count": 103,
      "outputs": [
        {
          "output_type": "stream",
          "name": "stderr",
          "text": [
            "/usr/local/lib/python3.7/dist-packages/seaborn/distributions.py:2619: FutureWarning: `distplot` is a deprecated function and will be removed in a future version. Please adapt your code to use either `displot` (a figure-level function with similar flexibility) or `histplot` (an axes-level function for histograms).\n",
            "  warnings.warn(msg, FutureWarning)\n"
          ]
        },
        {
          "output_type": "execute_result",
          "data": {
            "text/plain": [
              "<matplotlib.axes._subplots.AxesSubplot at 0x7f1cb6fccd10>"
            ]
          },
          "metadata": {},
          "execution_count": 103
        },
        {
          "output_type": "display_data",
          "data": {
            "image/png": "[encoded data removed]",
            "text/plain": [
              "<Figure size 432x288 with 1 Axes>"
            ]
          },
          "metadata": {
            "needs_background": "light"
          }
        }
      ]
    },
    {
      "cell_type": "code",
      "metadata": {
        "colab": {
          "base_uri": "https://localhost:8080/",
          "height": 300
        },
        "id": "2wW4hEnNgP_0",
        "outputId": "2bc4e10e-f780-4c13-ef94-a0380bf4e078"
      },
      "source": [
        "import matplotlib.pyplot as plt\n",
        "plt.hist(medias_por_filme)\n",
        "plt.title(\"Histograma das médias dos filmes\")"
      ],
      "execution_count": 104,
      "outputs": [
        {
          "output_type": "execute_result",
          "data": {
            "text/plain": [
              "Text(0.5, 1.0, 'Histograma das médias dos filmes')"
            ]
          },
          "metadata": {},
          "execution_count": 104
        },
        {
          "output_type": "display_data",
          "data": {
            "image/png": "[encoded data removed]",
            "text/plain": [
              "<Figure size 432x288 with 1 Axes>"
            ]
          },
          "metadata": {
            "needs_background": "light"
          }
        }
      ]
    },
    {
      "cell_type": "markdown",
      "metadata": {
        "id": "MOHhWRt_khUW"
      },
      "source": [
        "#Introdução a variaveis \n"
      ]
    },
    {
      "cell_type": "code",
      "metadata": {
        "colab": {
          "base_uri": "https://localhost:8080/",
          "height": 695
        },
        "id": "S0mLSjQaiV4o",
        "outputId": "9c44b830-6950-4fc4-f4f1-362dc4718b58"
      },
      "source": [
        "tmdb = pd.read_csv(\"tmdb_5000_movies.csv\")\n",
        "tmdb.head()"
      ],
      "execution_count": 105,
      "outputs": [
        {
          "output_type": "execute_result",
          "data": {
            "text/html": [
              "<div>\n",
              "<style scoped>\n",
              "    .dataframe tbody tr th:only-of-type {\n",
              "        vertical-align: middle;\n",
              "    }\n",
              "\n",
              "    .dataframe tbody tr th {\n",
              "        vertical-align: top;\n",
              "    }\n",
              "\n",
              "    .dataframe thead th {\n",
              "        text-align: right;\n",
              "    }\n",
              "</style>\n",
              "<table border=\"1\" class=\"dataframe\">\n",
              "  <thead>\n",
              "    <tr style=\"text-align: right;\">\n",
              "      <th></th>\n",
              "      <th>budget</th>\n",
              "      <th>genres</th>\n",
              "      <th>homepage</th>\n",
              "      <th>id</th>\n",
              "      <th>keywords</th>\n",
              "      <th>original_language</th>\n",
              "      <th>original_title</th>\n",
              "      <th>overview</th>\n",
              "      <th>popularity</th>\n",
              "      <th>production_companies</th>\n",
              "      <th>production_countries</th>\n",
              "      <th>release_date</th>\n",
              "      <th>revenue</th>\n",
              "      <th>runtime</th>\n",
              "      <th>spoken_languages</th>\n",
              "      <th>status</th>\n",
              "      <th>tagline</th>\n",
              "      <th>title</th>\n",
              "      <th>vote_average</th>\n",
              "      <th>vote_count</th>\n",
              "    </tr>\n",
              "  </thead>\n",
              "  <tbody>\n",
              "    <tr>\n",
              "      <th>0</th>\n",
              "      <td>237000000</td>\n",
              "      <td>[{\"id\": 28, \"name\": \"Action\"}, {\"id\": 12, \"nam...</td>\n",
              "      <td>http://www.avatarmovie.com/</td>\n",
              "      <td>19995</td>\n",
              "      <td>[{\"id\": 1463, \"name\": \"culture clash\"}, {\"id\":...</td>\n",
              "      <td>en</td>\n",
              "      <td>Avatar</td>\n",
              "      <td>In the 22nd century, a paraplegic Marine is di...</td>\n",
              "      <td>150.437577</td>\n",
              "      <td>[{\"name\": \"Ingenious Film Partners\", \"id\": 289...</td>\n",
              "      <td>[{\"iso_3166_1\": \"US\", \"name\": \"United States o...</td>\n",
              "      <td>2009-12-10</td>\n",
              "      <td>2787965087</td>\n",
              "      <td>162.0</td>\n",
              "      <td>[{\"iso_639_1\": \"en\", \"name\": \"English\"}, {\"iso...</td>\n",
              "      <td>Released</td>\n",
              "      <td>Enter the World of Pandora.</td>\n",
              "      <td>Avatar</td>\n",
              "      <td>7.2</td>\n",
              "      <td>11800</td>\n",
              "    </tr>\n",
              "    <tr>\n",
              "      <th>1</th>\n",
              "      <td>300000000</td>\n",
              "      <td>[{\"id\": 12, \"name\": \"Adventure\"}, {\"id\": 14, \"...</td>\n",
              "      <td>http://disney.go.com/disneypictures/pirates/</td>\n",
              "      <td>285</td>\n",
              "      <td>[{\"id\": 270, \"name\": \"ocean\"}, {\"id\": 726, \"na...</td>\n",
              "      <td>en</td>\n",
              "      <td>Pirates of the Caribbean: At World's End</td>\n",
              "      <td>Captain Barbossa, long believed to be dead, ha...</td>\n",
              "      <td>139.082615</td>\n",
              "      <td>[{\"name\": \"Walt Disney Pictures\", \"id\": 2}, {\"...</td>\n",
              "      <td>[{\"iso_3166_1\": \"US\", \"name\": \"United States o...</td>\n",
              "      <td>2007-05-19</td>\n",
              "      <td>961000000</td>\n",
              "      <td>169.0</td>\n",
              "      <td>[{\"iso_639_1\": \"en\", \"name\": \"English\"}]</td>\n",
              "      <td>Released</td>\n",
              "      <td>At the end of the world, the adventure begins.</td>\n",
              "      <td>Pirates of the Caribbean: At World's End</td>\n",
              "      <td>6.9</td>\n",
              "      <td>4500</td>\n",
              "    </tr>\n",
              "    <tr>\n",
              "      <th>2</th>\n",
              "      <td>245000000</td>\n",
              "      <td>[{\"id\": 28, \"name\": \"Action\"}, {\"id\": 12, \"nam...</td>\n",
              "      <td>http://www.sonypictures.com/movies/spectre/</td>\n",
              "      <td>206647</td>\n",
              "      <td>[{\"id\": 470, \"name\": \"spy\"}, {\"id\": 818, \"name...</td>\n",
              "      <td>en</td>\n",
              "      <td>Spectre</td>\n",
              "      <td>A cryptic message from Bond’s past sends him o...</td>\n",
              "      <td>107.376788</td>\n",
              "      <td>[{\"name\": \"Columbia Pictures\", \"id\": 5}, {\"nam...</td>\n",
              "      <td>[{\"iso_3166_1\": \"GB\", \"name\": \"United Kingdom\"...</td>\n",
              "      <td>2015-10-26</td>\n",
              "      <td>880674609</td>\n",
              "      <td>148.0</td>\n",
              "      <td>[{\"iso_639_1\": \"fr\", \"name\": \"Fran\\u00e7ais\"},...</td>\n",
              "      <td>Released</td>\n",
              "      <td>A Plan No One Escapes</td>\n",
              "      <td>Spectre</td>\n",
              "      <td>6.3</td>\n",
              "      <td>4466</td>\n",
              "    </tr>\n",
              "    <tr>\n",
              "      <th>3</th>\n",
              "      <td>250000000</td>\n",
              "      <td>[{\"id\": 28, \"name\": \"Action\"}, {\"id\": 80, \"nam...</td>\n",
              "      <td>http://www.thedarkknightrises.com/</td>\n",
              "      <td>49026</td>\n",
              "      <td>[{\"id\": 849, \"name\": \"dc comics\"}, {\"id\": 853,...</td>\n",
              "      <td>en</td>\n",
              "      <td>The Dark Knight Rises</td>\n",
              "      <td>Following the death of District Attorney Harve...</td>\n",
              "      <td>112.312950</td>\n",
              "      <td>[{\"name\": \"Legendary Pictures\", \"id\": 923}, {\"...</td>\n",
              "      <td>[{\"iso_3166_1\": \"US\", \"name\": \"United States o...</td>\n",
              "      <td>2012-07-16</td>\n",
              "      <td>1084939099</td>\n",
              "      <td>165.0</td>\n",
              "      <td>[{\"iso_639_1\": \"en\", \"name\": \"English\"}]</td>\n",
              "      <td>Released</td>\n",
              "      <td>The Legend Ends</td>\n",
              "      <td>The Dark Knight Rises</td>\n",
              "      <td>7.6</td>\n",
              "      <td>9106</td>\n",
              "    </tr>\n",
              "    <tr>\n",
              "      <th>4</th>\n",
              "      <td>260000000</td>\n",
              "      <td>[{\"id\": 28, \"name\": \"Action\"}, {\"id\": 12, \"nam...</td>\n",
              "      <td>http://movies.disney.com/john-carter</td>\n",
              "      <td>49529</td>\n",
              "      <td>[{\"id\": 818, \"name\": \"based on novel\"}, {\"id\":...</td>\n",
              "      <td>en</td>\n",
              "      <td>John Carter</td>\n",
              "      <td>John Carter is a war-weary, former military ca...</td>\n",
              "      <td>43.926995</td>\n",
              "      <td>[{\"name\": \"Walt Disney Pictures\", \"id\": 2}]</td>\n",
              "      <td>[{\"iso_3166_1\": \"US\", \"name\": \"United States o...</td>\n",
              "      <td>2012-03-07</td>\n",
              "      <td>284139100</td>\n",
              "      <td>132.0</td>\n",
              "      <td>[{\"iso_639_1\": \"en\", \"name\": \"English\"}]</td>\n",
              "      <td>Released</td>\n",
              "      <td>Lost in our world, found in another.</td>\n",
              "      <td>John Carter</td>\n",
              "      <td>6.1</td>\n",
              "      <td>2124</td>\n",
              "    </tr>\n",
              "  </tbody>\n",
              "</table>\n",
              "</div>"
            ],
            "text/plain": [
              "      budget  ... vote_count\n",
              "0  237000000  ...      11800\n",
              "1  300000000  ...       4500\n",
              "2  245000000  ...       4466\n",
              "3  250000000  ...       9106\n",
              "4  260000000  ...       2124\n",
              "\n",
              "[5 rows x 20 columns]"
            ]
          },
          "metadata": {},
          "execution_count": 105
        }
      ]
    },
    {
      "cell_type": "code",
      "metadata": {
        "colab": {
          "base_uri": "https://localhost:8080/"
        },
        "id": "A0I_7F0CmLLo",
        "outputId": "321cb495-9cec-453f-e296-a7d720f9e5dc"
      },
      "source": [
        "tmdb.original_language.unique() #categorica nominal"
      ],
      "execution_count": 106,
      "outputs": [
        {
          "output_type": "execute_result",
          "data": {
            "text/plain": [
              "array(['en', 'ja', 'fr', 'zh', 'es', 'de', 'hi', 'ru', 'ko', 'te', 'cn',\n",
              "       'it', 'nl', 'ta', 'sv', 'th', 'da', 'xx', 'hu', 'cs', 'pt', 'is',\n",
              "       'tr', 'nb', 'af', 'pl', 'he', 'ar', 'vi', 'ky', 'id', 'ro', 'fa',\n",
              "       'no', 'sl', 'ps', 'el'], dtype=object)"
            ]
          },
          "metadata": {},
          "execution_count": 106
        }
      ]
    },
    {
      "cell_type": "markdown",
      "metadata": {
        "id": "B6f6JT61pTn2"
      },
      "source": [
        "Unica série, pois possui uma unica coluna.\n"
      ]
    },
    {
      "cell_type": "code",
      "metadata": {
        "colab": {
          "base_uri": "https://localhost:8080/",
          "height": 206
        },
        "id": "VNNeuo5Rmr4a",
        "outputId": "daed97fc-e3ae-4111-f3a3-6a9660a7c651"
      },
      "source": [
        "contagem_de_lingua = tmdb[\"original_language\"].value_counts().to_frame().reset_index()\n",
        "contagem_de_lingua.columns = [\"original_language\", \"total\"]\n",
        "contagem_de_lingua.head()"
      ],
      "execution_count": 107,
      "outputs": [
        {
          "output_type": "execute_result",
          "data": {
            "text/html": [
              "<div>\n",
              "<style scoped>\n",
              "    .dataframe tbody tr th:only-of-type {\n",
              "        vertical-align: middle;\n",
              "    }\n",
              "\n",
              "    .dataframe tbody tr th {\n",
              "        vertical-align: top;\n",
              "    }\n",
              "\n",
              "    .dataframe thead th {\n",
              "        text-align: right;\n",
              "    }\n",
              "</style>\n",
              "<table border=\"1\" class=\"dataframe\">\n",
              "  <thead>\n",
              "    <tr style=\"text-align: right;\">\n",
              "      <th></th>\n",
              "      <th>original_language</th>\n",
              "      <th>total</th>\n",
              "    </tr>\n",
              "  </thead>\n",
              "  <tbody>\n",
              "    <tr>\n",
              "      <th>0</th>\n",
              "      <td>en</td>\n",
              "      <td>4505</td>\n",
              "    </tr>\n",
              "    <tr>\n",
              "      <th>1</th>\n",
              "      <td>fr</td>\n",
              "      <td>70</td>\n",
              "    </tr>\n",
              "    <tr>\n",
              "      <th>2</th>\n",
              "      <td>es</td>\n",
              "      <td>32</td>\n",
              "    </tr>\n",
              "    <tr>\n",
              "      <th>3</th>\n",
              "      <td>de</td>\n",
              "      <td>27</td>\n",
              "    </tr>\n",
              "    <tr>\n",
              "      <th>4</th>\n",
              "      <td>zh</td>\n",
              "      <td>27</td>\n",
              "    </tr>\n",
              "  </tbody>\n",
              "</table>\n",
              "</div>"
            ],
            "text/plain": [
              "  original_language  total\n",
              "0                en   4505\n",
              "1                fr     70\n",
              "2                es     32\n",
              "3                de     27\n",
              "4                zh     27"
            ]
          },
          "metadata": {},
          "execution_count": 107
        }
      ]
    },
    {
      "cell_type": "markdown",
      "metadata": {
        "id": "XCHA2zRHqRKs"
      },
      "source": [
        "Visualizar as categorias\n"
      ]
    },
    {
      "cell_type": "code",
      "metadata": {
        "colab": {
          "base_uri": "https://localhost:8080/",
          "height": 299
        },
        "id": "FHDEnucXqQLw",
        "outputId": "8750351a-f818-4ec6-f470-af61d98e58a3"
      },
      "source": [
        "sns.barplot(x=\"original_language\", y=\"total\", data = contagem_de_lingua)"
      ],
      "execution_count": 108,
      "outputs": [
        {
          "output_type": "execute_result",
          "data": {
            "text/plain": [
              "<matplotlib.axes._subplots.AxesSubplot at 0x7f1cb6e93190>"
            ]
          },
          "metadata": {},
          "execution_count": 108
        },
        {
          "output_type": "display_data",
          "data": {
            "image/png": "[encoded data removed]",
            "text/plain": [
              "<Figure size 432x288 with 1 Axes>"
            ]
          },
          "metadata": {
            "needs_background": "light"
          }
        }
      ]
    },
    {
      "cell_type": "code",
      "metadata": {
        "colab": {
          "base_uri": "https://localhost:8080/"
        },
        "id": "IfMqUdf5rjoA",
        "outputId": "115e9a00-fb9f-4123-c24f-49f4741adcd1"
      },
      "source": [
        "!pip install seaborn==0.9.0"
      ],
      "execution_count": 109,
      "outputs": [
        {
          "output_type": "stream",
          "name": "stdout",
          "text": [
            "Requirement already satisfied: seaborn==0.9.0 in /usr/local/lib/python3.7/dist-packages (0.9.0)\n",
            "Requirement already satisfied: matplotlib>=1.4.3 in /usr/local/lib/python3.7/dist-packages (from seaborn==0.9.0) (3.2.2)\n",
            "Requirement already satisfied: numpy>=1.9.3 in /usr/local/lib/python3.7/dist-packages (from seaborn==0.9.0) (1.19.5)\n",
            "Requirement already satisfied: scipy>=0.14.0 in /usr/local/lib/python3.7/dist-packages (from seaborn==0.9.0) (1.4.1)\n",
            "Requirement already satisfied: pandas>=0.15.2 in /usr/local/lib/python3.7/dist-packages (from seaborn==0.9.0) (1.1.5)\n",
            "Requirement already satisfied: python-dateutil>=2.1 in /usr/local/lib/python3.7/dist-packages (from matplotlib>=1.4.3->seaborn==0.9.0) (2.8.2)\n",
            "Requirement already satisfied: pyparsing!=2.0.4,!=2.1.2,!=2.1.6,>=2.0.1 in /usr/local/lib/python3.7/dist-packages (from matplotlib>=1.4.3->seaborn==0.9.0) (2.4.7)\n",
            "Requirement already satisfied: kiwisolver>=1.0.1 in /usr/local/lib/python3.7/dist-packages (from matplotlib>=1.4.3->seaborn==0.9.0) (1.3.2)\n",
            "Requirement already satisfied: cycler>=0.10 in /usr/local/lib/python3.7/dist-packages (from matplotlib>=1.4.3->seaborn==0.9.0) (0.10.0)\n",
            "Requirement already satisfied: six in /usr/local/lib/python3.7/dist-packages (from cycler>=0.10->matplotlib>=1.4.3->seaborn==0.9.0) (1.15.0)\n",
            "Requirement already satisfied: pytz>=2017.2 in /usr/local/lib/python3.7/dist-packages (from pandas>=0.15.2->seaborn==0.9.0) (2018.9)\n"
          ]
        }
      ]
    },
    {
      "cell_type": "code",
      "metadata": {
        "colab": {
          "base_uri": "https://localhost:8080/",
          "height": 388
        },
        "id": "2pf4P--9rAjf",
        "outputId": "2697a4f7-1ad5-480d-c603-65f772481e9b"
      },
      "source": [
        "sns.catplot(x = \"original_language\", kind=\"count\", data = tmdb)"
      ],
      "execution_count": 110,
      "outputs": [
        {
          "output_type": "execute_result",
          "data": {
            "text/plain": [
              "<seaborn.axisgrid.FacetGrid at 0x7f1cb6a00f10>"
            ]
          },
          "metadata": {},
          "execution_count": 110
        },
        {
          "output_type": "display_data",
          "data": {
            "image/png": "[encoded data removed]",
            "text/plain": [
              "<Figure size 360x360 with 1 Axes>"
            ]
          },
          "metadata": {
            "needs_background": "light"
          }
        }
      ]
    },
    {
      "cell_type": "code",
      "metadata": {
        "colab": {
          "base_uri": "https://localhost:8080/",
          "height": 1000
        },
        "id": "y0et1g-jsmZq",
        "outputId": "651cb9f1-8c20-4cec-b90b-89ebb21169bc"
      },
      "source": [
        "plt.pie(contagem_de_lingua[\"total\"], labels = contagem_de_lingua[\"original_language\"])"
      ],
      "execution_count": 111,
      "outputs": [
        {
          "output_type": "execute_result",
          "data": {
            "text/plain": [
              "([<matplotlib.patches.Wedge at 0x7f1cb741d690>,\n",
              "  <matplotlib.patches.Wedge at 0x7f1cb741d7d0>,\n",
              "  <matplotlib.patches.Wedge at 0x7f1cb72cb5d0>,\n",
              "  <matplotlib.patches.Wedge at 0x7f1cb72cb690>,\n",
              "  <matplotlib.patches.Wedge at 0x7f1cb72f4e50>,\n",
              "  <matplotlib.patches.Wedge at 0x7f1cb7435290>,\n",
              "  <matplotlib.patches.Wedge at 0x7f1cb7435bd0>,\n",
              "  <matplotlib.patches.Wedge at 0x7f1cb72b3850>,\n",
              "  <matplotlib.patches.Wedge at 0x7f1cb72f4a50>,\n",
              "  <matplotlib.patches.Wedge at 0x7f1cb72608d0>,\n",
              "  <matplotlib.patches.Wedge at 0x7f1cb742a690>,\n",
              "  <matplotlib.patches.Wedge at 0x7f1cb7254ad0>,\n",
              "  <matplotlib.patches.Wedge at 0x7f1cb72492d0>,\n",
              "  <matplotlib.patches.Wedge at 0x7f1cb72c1750>,\n",
              "  <matplotlib.patches.Wedge at 0x7f1cb7342510>,\n",
              "  <matplotlib.patches.Wedge at 0x7f1cb7342490>,\n",
              "  <matplotlib.patches.Wedge at 0x7f1cb72ba0d0>,\n",
              "  <matplotlib.patches.Wedge at 0x7f1cb723a450>,\n",
              "  <matplotlib.patches.Wedge at 0x7f1cb723a1d0>,\n",
              "  <matplotlib.patches.Wedge at 0x7f1cb720edd0>,\n",
              "  <matplotlib.patches.Wedge at 0x7f1cb71d6610>,\n",
              "  <matplotlib.patches.Wedge at 0x7f1cb71d6e50>,\n",
              "  <matplotlib.patches.Wedge at 0x7f1cb7234b50>,\n",
              "  <matplotlib.patches.Wedge at 0x7f1cb722d890>,\n",
              "  <matplotlib.patches.Wedge at 0x7f1cb69bd5d0>,\n",
              "  <matplotlib.patches.Wedge at 0x7f1cb6965410>,\n",
              "  <matplotlib.patches.Wedge at 0x7f1cb6a3c650>,\n",
              "  <matplotlib.patches.Wedge at 0x7f1cb67f9350>,\n",
              "  <matplotlib.patches.Wedge at 0x7f1cb67eed10>,\n",
              "  <matplotlib.patches.Wedge at 0x7f1cb67e04d0>,\n",
              "  <matplotlib.patches.Wedge at 0x7f1cb6711950>,\n",
              "  <matplotlib.patches.Wedge at 0x7f1cb682e8d0>,\n",
              "  <matplotlib.patches.Wedge at 0x7f1cb67d5590>,\n",
              "  <matplotlib.patches.Wedge at 0x7f1cb67a7fd0>,\n",
              "  <matplotlib.patches.Wedge at 0x7f1cb6843810>,\n",
              "  <matplotlib.patches.Wedge at 0x7f1cb6843c90>,\n",
              "  <matplotlib.patches.Wedge at 0x7f1cb681fa50>],\n",
              " [Text(-1.0791697536499925, 0.2130554923183512, 'en'),\n",
              "  Text(1.0355355017029462, -0.3710339940124459, 'fr'),\n",
              "  Text(1.0579676486019882, -0.3011718023181785, 'es'),\n",
              "  Text(1.0687996606645356, -0.26012936274741094, 'de'),\n",
              "  Text(1.0773191105706255, -0.22222406260195313, 'zh'),\n",
              "  Text(1.0835167978583342, -0.18971386021801853, 'hi'),\n",
              "  Text(1.0875756432724297, -0.16486121484618815, 'ja'),\n",
              "  Text(1.0906010773146022, -0.14348968659882622, 'it'),\n",
              "  Text(1.092883487371409, -0.12492270822755745, 'cn'),\n",
              "  Text(1.0946390911069936, -0.10846778425161549, 'ru'),\n",
              "  Text(1.0960865535188649, -0.09270527058984593, 'ko'),\n",
              "  Text(1.0972054830031333, -0.07835896928789601, 'pt'),\n",
              "  Text(1.097965443340663, -0.06687215586282344, 'da'),\n",
              "  Text(1.0984565010300316, -0.05825217030171998, 'sv'),\n",
              "  Text(1.0987803851616647, -0.0517847968421653, 'fa'),\n",
              "  Text(1.0990363161210686, -0.04603450713357274, 'nl'),\n",
              "  Text(1.0992355702663055, -0.04100196411527794, 'th'),\n",
              "  Text(1.0993880184234357, -0.03668766750546649, 'he'),\n",
              "  Text(1.0995021239019234, -0.033091985965784415, 'ar'),\n",
              "  Text(1.099584941078101, -0.03021518416739545, 'cs'),\n",
              "  Text(1.0996602312343366, -0.027338175536150495, 'id'),\n",
              "  Text(1.099727993855245, -0.024460979766119193, 'ta'),\n",
              "  Text(1.0997882284769684, -0.02158361655264929, 'ro'),\n",
              "  Text(1.0998284639438185, -0.01942549610642471, 'vi'),\n",
              "  Text(1.0998529348820232, -0.01798670707495573, 'nb'),\n",
              "  Text(1.0998755236058106, -0.01654788726224571, 'el'),\n",
              "  Text(1.0998962300765243, -0.01510903913059323, 'ky'),\n",
              "  Text(1.0999150542587282, -0.013670165142345335, 'is'),\n",
              "  Text(1.0999319961202083, -0.012231267759896247, 'tr'),\n",
              "  Text(1.0999470556319713, -0.01079234944567632, 'hu'),\n",
              "  Text(1.099960232768245, -0.00935341266215563, 'te'),\n",
              "  Text(1.0999715275064792, -0.007914459871831963, 'pl'),\n",
              "  Text(1.0999809398273452, -0.006475493537234394, 'no'),\n",
              "  Text(1.0999884697147349, -0.005036516120911278, 'af'),\n",
              "  Text(1.0999941171557621, -0.0035975300854338356, 'sl'),\n",
              "  Text(1.0999978821407626, -0.0021585378933851127, 'ps'),\n",
              "  Text(1.0999997646632929, -0.0007195420073586872, 'xx')])"
            ]
          },
          "metadata": {},
          "execution_count": 111
        },
        {
          "output_type": "display_data",
          "data": {
            "image/png": "[encoded data removed]",
            "text/plain": [
              "<Figure size 432x288 with 1 Axes>"
            ]
          },
          "metadata": {}
        }
      ]
    },
    {
      "cell_type": "code",
      "metadata": {
        "colab": {
          "base_uri": "https://localhost:8080/"
        },
        "id": "GuarEtNqtCzD",
        "outputId": "566f4fe6-5b1d-400f-8867-3e1c97dc35e1"
      },
      "source": [
        "total_por_lingua = tmdb[\"original_language\"].value_counts()\n",
        "total_geral = total_por_lingua.sum()\n",
        "total_de_ingles = total_por_lingua[\"en\"]\n",
        "total_do_resto = total_geral - total_de_ingles\n",
        "print(total_de_ingles, total_do_resto)"
      ],
      "execution_count": 114,
      "outputs": [
        {
          "output_type": "stream",
          "name": "stdout",
          "text": [
            "4505 298\n"
          ]
        }
      ]
    },
    {
      "cell_type": "code",
      "metadata": {
        "colab": {
          "base_uri": "https://localhost:8080/"
        },
        "id": "RR_7vXp-uikE",
        "outputId": "c9eef291-db23-443b-9dee-9233b1a8dcbc"
      },
      "source": [
        "dados = {\n",
        "    'lingua' : ['ingles', 'outros'],\n",
        "    'total' : [total_de_ingles, total_do_resto]\n",
        "}\n",
        "dados"
      ],
      "execution_count": 116,
      "outputs": [
        {
          "output_type": "execute_result",
          "data": {
            "text/plain": [
              "{'lingua': ['ingles', 'outros'], 'total': [4505, 298]}"
            ]
          },
          "metadata": {},
          "execution_count": 116
        }
      ]
    },
    {
      "cell_type": "code",
      "metadata": {
        "colab": {
          "base_uri": "https://localhost:8080/",
          "height": 112
        },
        "id": "T20zNnTQu9Cg",
        "outputId": "dd47949f-c475-4683-f88f-dcac8f6e02ee"
      },
      "source": [
        "pd.DataFrame(dados)"
      ],
      "execution_count": 117,
      "outputs": [
        {
          "output_type": "execute_result",
          "data": {
            "text/html": [
              "<div>\n",
              "<style scoped>\n",
              "    .dataframe tbody tr th:only-of-type {\n",
              "        vertical-align: middle;\n",
              "    }\n",
              "\n",
              "    .dataframe tbody tr th {\n",
              "        vertical-align: top;\n",
              "    }\n",
              "\n",
              "    .dataframe thead th {\n",
              "        text-align: right;\n",
              "    }\n",
              "</style>\n",
              "<table border=\"1\" class=\"dataframe\">\n",
              "  <thead>\n",
              "    <tr style=\"text-align: right;\">\n",
              "      <th></th>\n",
              "      <th>lingua</th>\n",
              "      <th>total</th>\n",
              "    </tr>\n",
              "  </thead>\n",
              "  <tbody>\n",
              "    <tr>\n",
              "      <th>0</th>\n",
              "      <td>ingles</td>\n",
              "      <td>4505</td>\n",
              "    </tr>\n",
              "    <tr>\n",
              "      <th>1</th>\n",
              "      <td>outros</td>\n",
              "      <td>298</td>\n",
              "    </tr>\n",
              "  </tbody>\n",
              "</table>\n",
              "</div>"
            ],
            "text/plain": [
              "   lingua  total\n",
              "0  ingles   4505\n",
              "1  outros    298"
            ]
          },
          "metadata": {},
          "execution_count": 117
        }
      ]
    },
    {
      "cell_type": "code",
      "metadata": {
        "colab": {
          "base_uri": "https://localhost:8080/",
          "height": 284
        },
        "id": "3j3x2yS1vGKj",
        "outputId": "72866f00-eaad-4509-a3ce-18eb07092346"
      },
      "source": [
        "sns.barplot(x=\"lingua\", y=\"total\", data = dados)"
      ],
      "execution_count": 118,
      "outputs": [
        {
          "output_type": "execute_result",
          "data": {
            "text/plain": [
              "<matplotlib.axes._subplots.AxesSubplot at 0x7f1cb744f210>"
            ]
          },
          "metadata": {},
          "execution_count": 118
        },
        {
          "output_type": "display_data",
          "data": {
            "image/png": "[encoded data removed]",
            "text/plain": [
              "<Figure size 432x288 with 1 Axes>"
            ]
          },
          "metadata": {
            "needs_background": "light"
          }
        }
      ]
    },
    {
      "cell_type": "code",
      "metadata": {
        "colab": {
          "base_uri": "https://localhost:8080/",
          "height": 323
        },
        "id": "YcNcsbqfvlJX",
        "outputId": "8bfe0194-02b5-4fe9-c411-9eba4e6819b4"
      },
      "source": [
        "plt.pie(dados['total'], labels = dados['lingua'])"
      ],
      "execution_count": 119,
      "outputs": [
        {
          "output_type": "execute_result",
          "data": {
            "text/plain": [
              "([<matplotlib.patches.Wedge at 0x7f1cb6675e10>,\n",
              "  <matplotlib.patches.Wedge at 0x7f1cb6651790>],\n",
              " [Text(-1.0791697536499925, 0.2130554923183512, 'ingles'),\n",
              "  Text(1.0791697511565306, -0.2130555049482467, 'outros')])"
            ]
          },
          "metadata": {},
          "execution_count": 119
        },
        {
          "output_type": "display_data",
          "data": {
            "image/png": "[encoded data removed]",
            "text/plain": [
              "<Figure size 432x288 with 1 Axes>"
            ]
          },
          "metadata": {}
        }
      ]
    },
    {
      "cell_type": "code",
      "metadata": {
        "colab": {
          "base_uri": "https://localhost:8080/"
        },
        "id": "sjd2phNGv-Tm",
        "outputId": "bb882393-b90a-4ed0-f036-d201d3b7c5cf"
      },
      "source": [
        "total_por_lingua_de_outros_filmes = tmdb.query(\"original_language != 'en'\").original_language.value_counts()\n",
        "print(total_por_lingua_de_outros_filmes)"
      ],
      "execution_count": 124,
      "outputs": [
        {
          "output_type": "stream",
          "name": "stdout",
          "text": [
            "fr    70\n",
            "es    32\n",
            "de    27\n",
            "zh    27\n",
            "hi    19\n",
            "ja    16\n",
            "it    14\n",
            "cn    12\n",
            "ko    11\n",
            "ru    11\n",
            "pt     9\n",
            "da     7\n",
            "sv     5\n",
            "fa     4\n",
            "nl     4\n",
            "he     3\n",
            "th     3\n",
            "ta     2\n",
            "id     2\n",
            "ar     2\n",
            "cs     2\n",
            "ro     2\n",
            "ps     1\n",
            "pl     1\n",
            "xx     1\n",
            "vi     1\n",
            "ky     1\n",
            "sl     1\n",
            "nb     1\n",
            "te     1\n",
            "el     1\n",
            "is     1\n",
            "tr     1\n",
            "no     1\n",
            "af     1\n",
            "hu     1\n",
            "Name: original_language, dtype: int64\n"
          ]
        }
      ]
    },
    {
      "cell_type": "code",
      "metadata": {
        "colab": {
          "base_uri": "https://localhost:8080/",
          "height": 388
        },
        "id": "VQerag3IwzPU",
        "outputId": "b80da4c2-00a1-46c1-980b-c1ac1a0272d0"
      },
      "source": [
        "filmes_sem_lingua_original_sem_ingles = tmdb.query(\"original_language != 'en'\")\n",
        "\n",
        "sns.catplot(x= \"original_language\", kind=\"count\", data = filmes_sem_lingua_original_sem_ingles, aspect=2, palette=\"GnBu_d\", order = total_por_lingua_de_outros_filmes.index)"
      ],
      "execution_count": 143,
      "outputs": [
        {
          "output_type": "execute_result",
          "data": {
            "text/plain": [
              "<seaborn.axisgrid.FacetGrid at 0x7f1cb5c971d0>"
            ]
          },
          "metadata": {},
          "execution_count": 143
        },
        {
          "output_type": "display_data",
          "data": {
            "image/png": "[encoded data removed]",
            "text/plain": [
              "<Figure size 720x360 with 1 Axes>"
            ]
          },
          "metadata": {
            "needs_background": "light"
          }
        }
      ]
    },
    {
      "cell_type": "code",
      "metadata": {
        "colab": {
          "base_uri": "https://localhost:8080/",
          "height": 112
        },
        "id": "sD20HGqN0KCW",
        "outputId": "60a9e94a-56ee-4a2f-bb3b-421bedc8cf8c"
      },
      "source": [
        "filmes.head(2)"
      ],
      "execution_count": 144,
      "outputs": [
        {
          "output_type": "execute_result",
          "data": {
            "text/html": [
              "<div>\n",
              "<style scoped>\n",
              "    .dataframe tbody tr th:only-of-type {\n",
              "        vertical-align: middle;\n",
              "    }\n",
              "\n",
              "    .dataframe tbody tr th {\n",
              "        vertical-align: top;\n",
              "    }\n",
              "\n",
              "    .dataframe thead th {\n",
              "        text-align: right;\n",
              "    }\n",
              "</style>\n",
              "<table border=\"1\" class=\"dataframe\">\n",
              "  <thead>\n",
              "    <tr style=\"text-align: right;\">\n",
              "      <th></th>\n",
              "      <th>filmesId</th>\n",
              "      <th>titulo</th>\n",
              "      <th>generos</th>\n",
              "    </tr>\n",
              "  </thead>\n",
              "  <tbody>\n",
              "    <tr>\n",
              "      <th>0</th>\n",
              "      <td>1</td>\n",
              "      <td>Toy Story (1995)</td>\n",
              "      <td>Adventure|Animation|Children|Comedy|Fantasy</td>\n",
              "    </tr>\n",
              "    <tr>\n",
              "      <th>1</th>\n",
              "      <td>2</td>\n",
              "      <td>Jumanji (1995)</td>\n",
              "      <td>Adventure|Children|Fantasy</td>\n",
              "    </tr>\n",
              "  </tbody>\n",
              "</table>\n",
              "</div>"
            ],
            "text/plain": [
              "   filmesId            titulo                                      generos\n",
              "0         1  Toy Story (1995)  Adventure|Animation|Children|Comedy|Fantasy\n",
              "1         2    Jumanji (1995)                   Adventure|Children|Fantasy"
            ]
          },
          "metadata": {},
          "execution_count": 144
        }
      ]
    },
    {
      "cell_type": "code",
      "metadata": {
        "colab": {
          "base_uri": "https://localhost:8080/"
        },
        "id": "LVtSs9tA0OmH",
        "outputId": "fa30881d-affb-4166-8222-dc3cacd7d9a1"
      },
      "source": [
        "notas_do_toy_story = notas.query(\"filmeId==1\")\n",
        "notas_do_jumanji = notas.query(\"filmeId==2\")\n",
        "print(len(notas_do_toy_story), len(notas_do_jumanji))"
      ],
      "execution_count": 152,
      "outputs": [
        {
          "output_type": "stream",
          "name": "stdout",
          "text": [
            "215 110\n"
          ]
        }
      ]
    },
    {
      "cell_type": "code",
      "metadata": {
        "colab": {
          "base_uri": "https://localhost:8080/"
        },
        "id": "LJ6FrEAL1sLG",
        "outputId": "5e77562e-0cdb-418e-9e29-a25717a11784"
      },
      "source": [
        "print(\"Nota media do Toy Story %.2f\" % notas_do_toy_story.nota.mean())\n"
      ],
      "execution_count": 155,
      "outputs": [
        {
          "output_type": "stream",
          "name": "stdout",
          "text": [
            "Nota media do Toy Story 3.92\n"
          ]
        }
      ]
    },
    {
      "cell_type": "code",
      "metadata": {
        "colab": {
          "base_uri": "https://localhost:8080/"
        },
        "id": "ju68ur0U2FU4",
        "outputId": "9f66a87e-ee66-402f-d5e0-762eb258fae4"
      },
      "source": [
        "print(\"Nota media do Jumanji %.2f\" % notas_do_jumanji.nota.mean())\n"
      ],
      "execution_count": 154,
      "outputs": [
        {
          "output_type": "stream",
          "name": "stdout",
          "text": [
            "Nota media do Jumanji 3.43\n"
          ]
        }
      ]
    },
    {
      "cell_type": "code",
      "metadata": {
        "id": "4rkQa3hz2SVe"
      },
      "source": [
        "import numpy as np"
      ],
      "execution_count": 156,
      "outputs": []
    },
    {
      "cell_type": "code",
      "metadata": {
        "colab": {
          "base_uri": "https://localhost:8080/"
        },
        "id": "y9TAo5CD242P",
        "outputId": "3c305e0b-1d67-4358-8241-2c7b14625898"
      },
      "source": [
        "np.append(np.array([2.5]*10), np.array([3.5]*10))"
      ],
      "execution_count": 158,
      "outputs": [
        {
          "output_type": "execute_result",
          "data": {
            "text/plain": [
              "array([2.5, 2.5, 2.5, 2.5, 2.5, 2.5, 2.5, 2.5, 2.5, 2.5, 3.5, 3.5, 3.5,\n",
              "       3.5, 3.5, 3.5, 3.5, 3.5, 3.5, 3.5])"
            ]
          },
          "metadata": {},
          "execution_count": 158
        }
      ]
    },
    {
      "cell_type": "code",
      "metadata": {
        "colab": {
          "base_uri": "https://localhost:8080/",
          "height": 298
        },
        "id": "HAWFXO_I5aHP",
        "outputId": "b842896d-2c3b-47e5-9820-54a6e65a1679"
      },
      "source": [
        "sns.boxplot(x=\"filmeId\", y = \"nota\", data = notas.query(\"filmeId in [1,2,3,4,5,6,7,8,9 ]\"))"
      ],
      "execution_count": 160,
      "outputs": [
        {
          "output_type": "execute_result",
          "data": {
            "text/plain": [
              "<matplotlib.axes._subplots.AxesSubplot at 0x7f1cb587b950>"
            ]
          },
          "metadata": {},
          "execution_count": 160
        },
        {
          "output_type": "display_data",
          "data": {
            "image/png": "[encoded data removed]",
            "text/plain": [
              "<Figure size 432x288 with 1 Axes>"
            ]
          },
          "metadata": {
            "needs_background": "light"
          }
        }
      ]
    }
  ]
}